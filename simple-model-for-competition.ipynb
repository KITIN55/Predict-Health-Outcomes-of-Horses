{
 "cells": [
  {
   "cell_type": "markdown",
   "id": "21417977",
   "metadata": {
    "papermill": {
     "duration": 0.006161,
     "end_time": "2023-11-16T12:40:03.121496",
     "exception": false,
     "start_time": "2023-11-16T12:40:03.115335",
     "status": "completed"
    },
    "tags": []
   },
   "source": [
    "## Import libraries"
   ]
  },
  {
   "cell_type": "code",
   "execution_count": 1,
   "id": "2d77f9dc",
   "metadata": {
    "_cell_guid": "b1076dfc-b9ad-4769-8c92-a6c4dae69d19",
    "_uuid": "8f2839f25d086af736a60e9eeb907d3b93b6e0e5",
    "execution": {
     "iopub.execute_input": "2023-11-16T12:40:03.133584Z",
     "iopub.status.busy": "2023-11-16T12:40:03.133177Z",
     "iopub.status.idle": "2023-11-16T12:40:08.526854Z",
     "shell.execute_reply": "2023-11-16T12:40:08.525130Z"
    },
    "papermill": {
     "duration": 5.403574,
     "end_time": "2023-11-16T12:40:08.530145",
     "exception": false,
     "start_time": "2023-11-16T12:40:03.126571",
     "status": "completed"
    },
    "tags": []
   },
   "outputs": [],
   "source": [
    "# Import required libraries\n",
    "import numpy as np \n",
    "import pandas as pd\n",
    "import matplotlib.pyplot as plt\n",
    "import seaborn as sns\n",
    "import os\n",
    "import copy\n",
    "from sklearn.impute import KNNImputer\n",
    "from sklearn.model_selection import train_test_split, StratifiedKFold\n",
    "from sklearn.metrics import f1_score, accuracy_score\n",
    "from xgboost import XGBClassifier\n",
    "from lightgbm import LGBMClassifier\n",
    "from catboost import CatBoostClassifier\n",
    "\n",
    "import warnings\n",
    "warnings.filterwarnings('ignore')\n",
    "\n",
    "pd.set_option('display.max_columns', None)"
   ]
  },
  {
   "cell_type": "markdown",
   "id": "891fb1ab",
   "metadata": {
    "papermill": {
     "duration": 0.004349,
     "end_time": "2023-11-16T12:40:08.539498",
     "exception": false,
     "start_time": "2023-11-16T12:40:08.535149",
     "status": "completed"
    },
    "tags": []
   },
   "source": [
    "## Load data"
   ]
  },
  {
   "cell_type": "code",
   "execution_count": 2,
   "id": "546ade0f",
   "metadata": {
    "execution": {
     "iopub.execute_input": "2023-11-16T12:40:08.550478Z",
     "iopub.status.busy": "2023-11-16T12:40:08.550097Z",
     "iopub.status.idle": "2023-11-16T12:40:08.628353Z",
     "shell.execute_reply": "2023-11-16T12:40:08.626494Z"
    },
    "papermill": {
     "duration": 0.086889,
     "end_time": "2023-11-16T12:40:08.630923",
     "exception": false,
     "start_time": "2023-11-16T12:40:08.544034",
     "status": "completed"
    },
    "tags": []
   },
   "outputs": [],
   "source": [
    "train = pd.read_csv('/kaggle/input/playground-series-s3e22/train.csv')\n",
    "test = pd.read_csv('/kaggle/input/playground-series-s3e22/test.csv')\n",
    "origin = pd.read_csv('/kaggle/input/horse-survival-dataset/horse.csv')\n",
    "# Combine both original and training data\n",
    "train = pd.concat([train, origin], ignore_index=True)"
   ]
  },
  {
   "cell_type": "markdown",
   "id": "5da7c1e2",
   "metadata": {
    "papermill": {
     "duration": 0.004528,
     "end_time": "2023-11-16T12:40:08.640572",
     "exception": false,
     "start_time": "2023-11-16T12:40:08.636044",
     "status": "completed"
    },
    "tags": []
   },
   "source": [
    "## Feature Engineering"
   ]
  },
  {
   "cell_type": "markdown",
   "id": "e74a8932",
   "metadata": {
    "papermill": {
     "duration": 0.004524,
     "end_time": "2023-11-16T12:40:08.650829",
     "exception": false,
     "start_time": "2023-11-16T12:40:08.646305",
     "status": "completed"
    },
    "tags": []
   },
   "source": [
    "The feature transforms below have been very carefully done by doing extensive EDA and feature engineering. The full feature engineering and EDA can be found in [this notebook](https://www.kaggle.com/code/nikhil1e9/s3-e22-full-feature-analysis). After successive repetitions and model training with different feature transformations these turned out to be the best."
   ]
  },
  {
   "cell_type": "code",
   "execution_count": 3,
   "id": "ea037888",
   "metadata": {
    "execution": {
     "iopub.execute_input": "2023-11-16T12:40:08.662107Z",
     "iopub.status.busy": "2023-11-16T12:40:08.661738Z",
     "iopub.status.idle": "2023-11-16T12:40:08.695510Z",
     "shell.execute_reply": "2023-11-16T12:40:08.693838Z"
    },
    "papermill": {
     "duration": 0.042817,
     "end_time": "2023-11-16T12:40:08.698272",
     "exception": false,
     "start_time": "2023-11-16T12:40:08.655455",
     "status": "completed"
    },
    "tags": []
   },
   "outputs": [],
   "source": [
    "# Feature transformations\n",
    "def clean_and_transform(df):\n",
    "    # change 3 to more_3_sec\n",
    "    df['capillary_refill_time'].replace({'3': 'more_3_sec'}, inplace=True)\n",
    "    # convert slight and moderate to mild pain category\n",
    "    df['pain'].replace({'slight': 'mild_pain'}, inplace=True)\n",
    "    df['pain'].replace({'moderate': 'mild_pain'}, inplace=True)\n",
    "    # clean below 3 columns\n",
    "    df['peristalsis'].replace({'distend_small': np.nan}, inplace=True)\n",
    "    df['nasogastric_reflux'].replace({'slight': np.nan}, inplace=True)\n",
    "    df['rectal_exam_feces'].replace({'serosanguious': np.nan}, inplace=True)\n",
    "    \n",
    "#     df['rectal_temp'] = abs(df['rectal_temp'] - 37.8)\n",
    "#     df['pulse_resp'] = df['pulse']*df['respiratory_rate']\n",
    "#     df['pulse'] = abs(df['pulse'] - 60)\n",
    "#     df['protein'] = df['total_protein']/df['abdomo_protein']\n",
    "#     df['total_protein_cat'] = df['total_protein'] > 40\n",
    "    df['lesion_1'] = df['lesion_1'].astype('str')\n",
    "    df['lesion1'] = df['lesion_1'].apply(lambda x: x+'0'*(4-len(x)) if len(x) <= 4 else x)\n",
    "    df['lesion_site'] = df['lesion1'].apply(lambda x: x[:2] if len(x) == 5 and x[0] == '1' else x[0])\n",
    "    df['lesion_type'] = df['lesion1'].apply(lambda x: x[2] if len(x) == 5 and x[0] == '1' else x[1])\n",
    "    df['lesion_subtype'] = df['lesion1'].apply(lambda x: x[3] if len(x) == 5 and x[0] == '1' else x[2])\n",
    "    df['lesion_code'] = df['lesion1'].apply(lambda x: x[-2:] if len(x) == 5 and x[0] != '1' else x[-1])\n",
    "    df.lesion_type.replace({'7': '0'}, inplace=True)\n",
    "    df = df.drop(['id', 'lesion1', 'lesion_1', 'lesion_2', 'lesion_3'], axis=1)\n",
    "    return df\n",
    "\n",
    "train_df = clean_and_transform(train)\n",
    "test_df = clean_and_transform(test)"
   ]
  },
  {
   "cell_type": "markdown",
   "id": "cfd1a347",
   "metadata": {
    "papermill": {
     "duration": 0.004313,
     "end_time": "2023-11-16T12:40:08.707457",
     "exception": false,
     "start_time": "2023-11-16T12:40:08.703144",
     "status": "completed"
    },
    "tags": []
   },
   "source": [
    "## Impute missing values"
   ]
  },
  {
   "cell_type": "code",
   "execution_count": 4,
   "id": "e4ff0d92",
   "metadata": {
    "execution": {
     "iopub.execute_input": "2023-11-16T12:40:08.718292Z",
     "iopub.status.busy": "2023-11-16T12:40:08.717944Z",
     "iopub.status.idle": "2023-11-16T12:40:08.807647Z",
     "shell.execute_reply": "2023-11-16T12:40:08.806787Z"
    },
    "papermill": {
     "duration": 0.098051,
     "end_time": "2023-11-16T12:40:08.810100",
     "exception": false,
     "start_time": "2023-11-16T12:40:08.712049",
     "status": "completed"
    },
    "tags": []
   },
   "outputs": [],
   "source": [
    "# Replace categorical missing values with mode\n",
    "def impute_cat(df):\n",
    "    for col in df.select_dtypes('object').columns:\n",
    "        mode = df[col].mode().values[0]\n",
    "        df[col] = df[col].fillna(mode)\n",
    "    return df\n",
    "# Impute numerical missing values with KNN imputer\n",
    "def impute_numeric(df):\n",
    "    imputer = KNNImputer()\n",
    "    numeric_cols = df.select_dtypes('number').columns\n",
    "    df[numeric_cols] = imputer.fit_transform(df[numeric_cols])\n",
    "    return df\n",
    "\n",
    "train_df = impute_cat(train_df)\n",
    "train_df = impute_numeric(train_df)\n",
    "test_df = impute_cat(test_df)"
   ]
  },
  {
   "cell_type": "code",
   "execution_count": 5,
   "id": "dc4b33e1",
   "metadata": {
    "execution": {
     "iopub.execute_input": "2023-11-16T12:40:08.823872Z",
     "iopub.status.busy": "2023-11-16T12:40:08.823430Z",
     "iopub.status.idle": "2023-11-16T12:40:08.837091Z",
     "shell.execute_reply": "2023-11-16T12:40:08.836277Z"
    },
    "papermill": {
     "duration": 0.022773,
     "end_time": "2023-11-16T12:40:08.839016",
     "exception": false,
     "start_time": "2023-11-16T12:40:08.816243",
     "status": "completed"
    },
    "tags": []
   },
   "outputs": [
    {
     "data": {
      "text/plain": [
       "surgery                  0\n",
       "age                      0\n",
       "hospital_number          0\n",
       "rectal_temp              0\n",
       "pulse                    0\n",
       "respiratory_rate         0\n",
       "temp_of_extremities      0\n",
       "peripheral_pulse         0\n",
       "mucous_membrane          0\n",
       "capillary_refill_time    0\n",
       "pain                     0\n",
       "peristalsis              0\n",
       "abdominal_distention     0\n",
       "nasogastric_tube         0\n",
       "nasogastric_reflux       0\n",
       "nasogastric_reflux_ph    0\n",
       "rectal_exam_feces        0\n",
       "abdomen                  0\n",
       "packed_cell_volume       0\n",
       "total_protein            0\n",
       "abdomo_appearance        0\n",
       "abdomo_protein           0\n",
       "surgical_lesion          0\n",
       "cp_data                  0\n",
       "outcome                  0\n",
       "lesion_site              0\n",
       "lesion_type              0\n",
       "lesion_subtype           0\n",
       "lesion_code              0\n",
       "dtype: int64"
      ]
     },
     "execution_count": 5,
     "metadata": {},
     "output_type": "execute_result"
    }
   ],
   "source": [
    "# Sanity check for missing values\n",
    "train_df.isnull().sum()"
   ]
  },
  {
   "cell_type": "markdown",
   "id": "7a7040a2",
   "metadata": {
    "papermill": {
     "duration": 0.005643,
     "end_time": "2023-11-16T12:40:08.850751",
     "exception": false,
     "start_time": "2023-11-16T12:40:08.845108",
     "status": "completed"
    },
    "tags": []
   },
   "source": [
    "## Modeling and Feature selection"
   ]
  },
  {
   "cell_type": "code",
   "execution_count": 6,
   "id": "86fddf99",
   "metadata": {
    "execution": {
     "iopub.execute_input": "2023-11-16T12:40:08.864285Z",
     "iopub.status.busy": "2023-11-16T12:40:08.863825Z",
     "iopub.status.idle": "2023-11-16T12:40:09.679901Z",
     "shell.execute_reply": "2023-11-16T12:40:09.678772Z"
    },
    "papermill": {
     "duration": 0.826188,
     "end_time": "2023-11-16T12:40:09.682915",
     "exception": false,
     "start_time": "2023-11-16T12:40:08.856727",
     "status": "completed"
    },
    "tags": []
   },
   "outputs": [
    {
     "name": "stdout",
     "output_type": "stream",
     "text": [
      "Validation accuracy: 0.7328990228013029\n",
      "Micro-averaged F1-Score: 0.7328990228013029\n"
     ]
    }
   ],
   "source": [
    "X = pd.get_dummies(train_df.drop('outcome', axis=1))\n",
    "y = train['outcome'].map(({'died': 0, 'lived': 1, 'euthanized': 2}))\n",
    "\n",
    "X_train, X_test, y_train, y_test = train_test_split(X, y, test_size=0.2, stratify=y, random_state=24)\n",
    "\n",
    "xgb = XGBClassifier()\n",
    "xgb.fit(X_train, y_train)\n",
    "y_preds = xgb.predict(X_test)\n",
    "microF = f1_score(y_test, y_preds, average='micro')\n",
    "print(\"Validation accuracy:\", accuracy_score(y_test, y_preds))\n",
    "print(\"Micro-averaged F1-Score:\", microF)"
   ]
  },
  {
   "cell_type": "markdown",
   "id": "6f68519c",
   "metadata": {
    "papermill": {
     "duration": 0.005057,
     "end_time": "2023-11-16T12:40:09.693504",
     "exception": false,
     "start_time": "2023-11-16T12:40:09.688447",
     "status": "completed"
    },
    "tags": []
   },
   "source": [
    "### Feature importances"
   ]
  },
  {
   "cell_type": "code",
   "execution_count": 7,
   "id": "4b680111",
   "metadata": {
    "execution": {
     "iopub.execute_input": "2023-11-16T12:40:09.705296Z",
     "iopub.status.busy": "2023-11-16T12:40:09.704950Z",
     "iopub.status.idle": "2023-11-16T12:40:10.171493Z",
     "shell.execute_reply": "2023-11-16T12:40:10.170023Z"
    },
    "papermill": {
     "duration": 0.475287,
     "end_time": "2023-11-16T12:40:10.174007",
     "exception": false,
     "start_time": "2023-11-16T12:40:09.698720",
     "status": "completed"
    },
    "tags": []
   },
   "outputs": [
    {
     "data": {
      "image/png": "[encoded data removed]",
      "text/plain": [
       "<Figure size 800x600 with 1 Axes>"
      ]
     },
     "metadata": {},
     "output_type": "display_data"
    }
   ],
   "source": [
    "# Plot feature importances\n",
    "feature_imp = pd.DataFrame({'feature': X_train.columns, 'Importance': xgb.feature_importances_}) \n",
    "feature_imp = feature_imp.sort_values('Importance', ascending=False)\n",
    "plt.figure(figsize=(8,6))\n",
    "sns.barplot(data=feature_imp[:30], x='Importance', y='feature', palette='winter')\n",
    "plt.title(\"XGBoost Feature importances\")\n",
    "plt.show()"
   ]
  },
  {
   "cell_type": "code",
   "execution_count": 8,
   "id": "65df2a0b",
   "metadata": {
    "execution": {
     "iopub.execute_input": "2023-11-16T12:40:10.187457Z",
     "iopub.status.busy": "2023-11-16T12:40:10.186834Z",
     "iopub.status.idle": "2023-11-16T12:40:10.194159Z",
     "shell.execute_reply": "2023-11-16T12:40:10.192824Z"
    },
    "papermill": {
     "duration": 0.016936,
     "end_time": "2023-11-16T12:40:10.196885",
     "exception": false,
     "start_time": "2023-11-16T12:40:10.179949",
     "status": "completed"
    },
    "tags": []
   },
   "outputs": [
    {
     "data": {
      "text/plain": [
       "(95, 2)"
      ]
     },
     "execution_count": 8,
     "metadata": {},
     "output_type": "execute_result"
    }
   ],
   "source": [
    "feature_imp.shape"
   ]
  },
  {
   "cell_type": "code",
   "execution_count": 9,
   "id": "9786a83f",
   "metadata": {
    "execution": {
     "iopub.execute_input": "2023-11-16T12:40:10.212087Z",
     "iopub.status.busy": "2023-11-16T12:40:10.211617Z",
     "iopub.status.idle": "2023-11-16T12:41:52.604388Z",
     "shell.execute_reply": "2023-11-16T12:41:52.603461Z"
    },
    "papermill": {
     "duration": 102.403527,
     "end_time": "2023-11-16T12:41:52.607620",
     "exception": false,
     "start_time": "2023-11-16T12:40:10.204093",
     "status": "completed"
    },
    "tags": []
   },
   "outputs": [
    {
     "name": "stdout",
     "output_type": "stream",
     "text": [
      "----------Model scores with 0.0 feature threshold----------\n",
      "0.7480998914223669\n",
      "----------Model scores with 0.001 feature threshold----------\n",
      "0.7480998914223669\n",
      "----------Model scores with 0.002 feature threshold----------\n",
      "0.747014115092291\n",
      "----------Model scores with 0.003 feature threshold----------\n",
      "0.750271444082519\n",
      "----------Model scores with 0.004 feature threshold----------\n",
      "0.747014115092291\n",
      "----------Model scores with 0.005 feature threshold----------\n",
      "0.741585233441911\n",
      "----------Model scores with 0.006 feature threshold----------\n",
      "0.740499457111835\n",
      "----------Model scores with 0.007 feature threshold----------\n",
      "0.749185667752443\n",
      "----------Model scores with 0.008 feature threshold----------\n",
      "0.744842562432139\n",
      "----------Model scores with 0.009 feature threshold----------\n",
      "0.740499457111835\n",
      "----------Model scores with 0.01 feature threshold----------\n",
      "0.7198697068403909\n"
     ]
    }
   ],
   "source": [
    "# Evaluating models on different thresholds\n",
    "def model_score():\n",
    "    thresholds = [0.0, 0.001, 0.002, 0.003, 0.004, 0.005, 0.006, 0.007, 0.008, 0.009, 0.01]\n",
    "    models = {'xgb': XGBClassifier(random_state=24), \n",
    "               'lgbm': LGBMClassifier(random_state=24), \n",
    "               'cat': CatBoostClassifier(verbose=False, random_state=24)}\n",
    "    for thresh in thresholds:\n",
    "        imp_cols = feature_imp[feature_imp['Importance'] > thresh]['feature'].values.tolist()\n",
    "        print(f\"----------Model scores with {thresh} feature threshold----------\")\n",
    "        Xf = X[imp_cols]\n",
    "    #     y = train['outcome'].map(({'died': 0,'lived': 1,'euthanized': 2}))\n",
    "        X_train, X_test, y_train, y_test = train_test_split(Xf, y, test_size=0.2, stratify=y, random_state=24)\n",
    "        Fscores = []\n",
    "        for k, mod in models.items():\n",
    "            mod.fit(X_train, y_train)\n",
    "            y_preds = mod.predict(X_test)\n",
    "            microF = f1_score(y_test, y_preds, average='micro')\n",
    "#             print(f\"MODEL: {k}\")\n",
    "#             print(\"Validation accuracy:\", accuracy_score(y_test, y_preds))\n",
    "#             print(\"Micro-averaged F1-Score:\", microF)\n",
    "            Fscores.append(microF)\n",
    "#             print(\"*\"*50)\n",
    "        print(np.mean(Fscores))\n",
    "model_score()"
   ]
  },
  {
   "cell_type": "code",
   "execution_count": 10,
   "id": "9e92856e",
   "metadata": {
    "execution": {
     "iopub.execute_input": "2023-11-16T12:41:52.626151Z",
     "iopub.status.busy": "2023-11-16T12:41:52.625451Z",
     "iopub.status.idle": "2023-11-16T12:41:52.632835Z",
     "shell.execute_reply": "2023-11-16T12:41:52.631871Z"
    },
    "papermill": {
     "duration": 0.018794,
     "end_time": "2023-11-16T12:41:52.634895",
     "exception": false,
     "start_time": "2023-11-16T12:41:52.616101",
     "status": "completed"
    },
    "tags": []
   },
   "outputs": [
    {
     "name": "stdout",
     "output_type": "stream",
     "text": [
      "Number of important features: 85\n",
      "Number of uninformative features: 10\n"
     ]
    }
   ],
   "source": [
    "features = feature_imp[feature_imp['Importance'] > 0.0]['feature'].values.tolist()\n",
    "print(f\"Number of important features: {len(features)}\")\n",
    "print(f\"Number of uninformative features: {len(feature_imp)-len(features)}\")"
   ]
  },
  {
   "cell_type": "markdown",
   "id": "c87cc4fa",
   "metadata": {
    "papermill": {
     "duration": 0.007101,
     "end_time": "2023-11-16T12:41:52.649638",
     "exception": false,
     "start_time": "2023-11-16T12:41:52.642537",
     "status": "completed"
    },
    "tags": []
   },
   "source": [
    "### Modeling with selected features"
   ]
  },
  {
   "cell_type": "code",
   "execution_count": 11,
   "id": "ad160e52",
   "metadata": {
    "execution": {
     "iopub.execute_input": "2023-11-16T12:41:52.666886Z",
     "iopub.status.busy": "2023-11-16T12:41:52.666169Z",
     "iopub.status.idle": "2023-11-16T12:42:19.068247Z",
     "shell.execute_reply": "2023-11-16T12:42:19.065419Z"
    },
    "papermill": {
     "duration": 26.41513,
     "end_time": "2023-11-16T12:42:19.072310",
     "exception": false,
     "start_time": "2023-11-16T12:41:52.657180",
     "status": "completed"
    },
    "tags": []
   },
   "outputs": [
    {
     "name": "stdout",
     "output_type": "stream",
     "text": [
      "------FOLD 1------\n",
      "XGBoost score: 0.7361563517915309\n",
      "LGBM score: 0.739413680781759\n",
      "------FOLD 2------\n",
      "XGBoost score: 0.7882736156351792\n",
      "LGBM score: 0.771986970684039\n",
      "------FOLD 3------\n",
      "XGBoost score: 0.7361563517915309\n",
      "LGBM score: 0.7328990228013029\n",
      "------FOLD 4------\n",
      "XGBoost score: 0.7068403908794788\n",
      "LGBM score: 0.7198697068403909\n",
      "------FOLD 5------\n",
      "XGBoost score: 0.7483660130718954\n",
      "LGBM score: 0.738562091503268\n",
      "\n",
      "Mean F-score for XGBoost\n",
      "0.7431585446339231\n",
      "Mean F-score for LGBM\n",
      "0.7405462945221519\n",
      "Combined mean score: 0.7418524195780375\n"
     ]
    }
   ],
   "source": [
    "X = pd.get_dummies(train_df.drop('outcome', axis=1))\n",
    "y = train['outcome'].map(({'died': 0,'lived': 1,'euthanized': 2}))\n",
    "# Stratified split with 20% validation data in each split\n",
    "skf = StratifiedKFold(n_splits=5, shuffle=True, random_state=24)\n",
    "f1, f2 = 0.0, 0.0\n",
    "\n",
    "for fold, (train_idx, val_idx) in enumerate(skf.split(X, y)):\n",
    "    X_train, y_train = X.iloc[train_idx][features], y.iloc[train_idx]\n",
    "    X_valid, y_valid = X.iloc[val_idx][features], y.iloc[val_idx]\n",
    "    \n",
    "    model_xgb = XGBClassifier()\n",
    "    model_lgbm = LGBMClassifier()\n",
    "    \n",
    "    model_xgb.fit(X_train, y_train, verbose=False)\n",
    "    model_lgbm.fit(X_train, y_train, verbose=False)\n",
    "    \n",
    "    val_preds_xgb = model_xgb.predict(X_valid)\n",
    "    val_preds_lgbm = model_lgbm.predict(X_valid)\n",
    "    \n",
    "    F_score_xgb = f1_score(y_valid, val_preds_xgb, average='micro')\n",
    "    F_score_lgbm = f1_score(y_valid, val_preds_lgbm, average='micro')\n",
    "    f1 += F_score_xgb\n",
    "    f2 += F_score_lgbm\n",
    "    \n",
    "    print(f\"------FOLD {fold+1}------\")\n",
    "    print(\"XGBoost score:\", F_score_xgb)\n",
    "    print(\"LGBM score:\", F_score_lgbm)\n",
    "    \n",
    "print(\"\\nMean F-score for XGBoost\")\n",
    "print(f1/5)\n",
    "print(\"Mean F-score for LGBM\")\n",
    "print(f2/5)\n",
    "print(\"Combined mean score:\", (f1+f2)/10)"
   ]
  },
  {
   "cell_type": "markdown",
   "id": "c10ee863",
   "metadata": {
    "papermill": {
     "duration": 0.008168,
     "end_time": "2023-11-16T12:42:19.089449",
     "exception": false,
     "start_time": "2023-11-16T12:42:19.081281",
     "status": "completed"
    },
    "tags": []
   },
   "source": [
    "## Final predictions"
   ]
  },
  {
   "cell_type": "code",
   "execution_count": 12,
   "id": "60e70374",
   "metadata": {
    "execution": {
     "iopub.execute_input": "2023-11-16T12:42:19.107682Z",
     "iopub.status.busy": "2023-11-16T12:42:19.107259Z",
     "iopub.status.idle": "2023-11-16T12:42:21.275526Z",
     "shell.execute_reply": "2023-11-16T12:42:21.273653Z"
    },
    "papermill": {
     "duration": 2.180773,
     "end_time": "2023-11-16T12:42:21.278563",
     "exception": false,
     "start_time": "2023-11-16T12:42:19.097790",
     "status": "completed"
    },
    "tags": []
   },
   "outputs": [],
   "source": [
    "final_feat = feature_imp[feature_imp['Importance'] > 0.0]['feature'].values.tolist()\n",
    "X_final = pd.get_dummies(test_df)[final_feat]\n",
    "xgb = XGBClassifier()\n",
    "xgb.fit(X[final_feat], y)\n",
    "preds = xgb.predict(X_final) "
   ]
  },
  {
   "cell_type": "markdown",
   "id": "765467e5",
   "metadata": {
    "papermill": {
     "duration": 0.00715,
     "end_time": "2023-11-16T12:42:21.293358",
     "exception": false,
     "start_time": "2023-11-16T12:42:21.286208",
     "status": "completed"
    },
    "tags": []
   },
   "source": [
    "## Submission"
   ]
  },
  {
   "cell_type": "code",
   "execution_count": 13,
   "id": "539b9b07",
   "metadata": {
    "execution": {
     "iopub.execute_input": "2023-11-16T12:42:21.312532Z",
     "iopub.status.busy": "2023-11-16T12:42:21.312148Z",
     "iopub.status.idle": "2023-11-16T12:42:22.199255Z",
     "shell.execute_reply": "2023-11-16T12:42:22.196808Z"
    },
    "papermill": {
     "duration": 0.899635,
     "end_time": "2023-11-16T12:42:22.201904",
     "exception": true,
     "start_time": "2023-11-16T12:42:21.302269",
     "status": "failed"
    },
    "tags": []
   },
   "outputs": [
    {
     "ename": "FileNotFoundError",
     "evalue": "[Errno 2] No such file or directory: '/kaggle/input/playground-series-s3e22/sample_submission1.csv'",
     "output_type": "error",
     "traceback": [
      "\u001b[0;31m---------------------------------------------------------------------------\u001b[0m",
      "\u001b[0;31mFileNotFoundError\u001b[0m                         Traceback (most recent call last)",
      "Cell \u001b[0;32mIn[13], line 1\u001b[0m\n\u001b[0;32m----> 1\u001b[0m sub \u001b[38;5;241m=\u001b[39m \u001b[43mpd\u001b[49m\u001b[38;5;241;43m.\u001b[39;49m\u001b[43mread_csv\u001b[49m\u001b[43m(\u001b[49m\u001b[38;5;124;43m'\u001b[39;49m\u001b[38;5;124;43m/kaggle/input/playground-series-s3e22/sample_submission1.csv\u001b[39;49m\u001b[38;5;124;43m'\u001b[39;49m\u001b[43m)\u001b[49m\n\u001b[1;32m      2\u001b[0m sub[\u001b[38;5;124m'\u001b[39m\u001b[38;5;124moutcome\u001b[39m\u001b[38;5;124m'\u001b[39m] \u001b[38;5;241m=\u001b[39m preds\n\u001b[1;32m      3\u001b[0m sub[\u001b[38;5;124m'\u001b[39m\u001b[38;5;124moutcome\u001b[39m\u001b[38;5;124m'\u001b[39m] \u001b[38;5;241m=\u001b[39m sub[\u001b[38;5;124m'\u001b[39m\u001b[38;5;124moutcome\u001b[39m\u001b[38;5;124m'\u001b[39m]\u001b[38;5;241m.\u001b[39mmap({\u001b[38;5;241m0\u001b[39m: \u001b[38;5;124m'\u001b[39m\u001b[38;5;124mdied\u001b[39m\u001b[38;5;124m'\u001b[39m, \u001b[38;5;241m1\u001b[39m: \u001b[38;5;124m'\u001b[39m\u001b[38;5;124mlived\u001b[39m\u001b[38;5;124m'\u001b[39m, \u001b[38;5;241m2\u001b[39m: \u001b[38;5;124m'\u001b[39m\u001b[38;5;124meuthanized\u001b[39m\u001b[38;5;124m'\u001b[39m})\n",
      "File \u001b[0;32m/opt/conda/lib/python3.10/site-packages/pandas/io/parsers/readers.py:912\u001b[0m, in \u001b[0;36mread_csv\u001b[0;34m(filepath_or_buffer, sep, delimiter, header, names, index_col, usecols, dtype, engine, converters, true_values, false_values, skipinitialspace, skiprows, skipfooter, nrows, na_values, keep_default_na, na_filter, verbose, skip_blank_lines, parse_dates, infer_datetime_format, keep_date_col, date_parser, date_format, dayfirst, cache_dates, iterator, chunksize, compression, thousands, decimal, lineterminator, quotechar, quoting, doublequote, escapechar, comment, encoding, encoding_errors, dialect, on_bad_lines, delim_whitespace, low_memory, memory_map, float_precision, storage_options, dtype_backend)\u001b[0m\n\u001b[1;32m    899\u001b[0m kwds_defaults \u001b[38;5;241m=\u001b[39m _refine_defaults_read(\n\u001b[1;32m    900\u001b[0m     dialect,\n\u001b[1;32m    901\u001b[0m     delimiter,\n\u001b[0;32m   (...)\u001b[0m\n\u001b[1;32m    908\u001b[0m     dtype_backend\u001b[38;5;241m=\u001b[39mdtype_backend,\n\u001b[1;32m    909\u001b[0m )\n\u001b[1;32m    910\u001b[0m kwds\u001b[38;5;241m.\u001b[39mupdate(kwds_defaults)\n\u001b[0;32m--> 912\u001b[0m \u001b[38;5;28;01mreturn\u001b[39;00m \u001b[43m_read\u001b[49m\u001b[43m(\u001b[49m\u001b[43mfilepath_or_buffer\u001b[49m\u001b[43m,\u001b[49m\u001b[43m \u001b[49m\u001b[43mkwds\u001b[49m\u001b[43m)\u001b[49m\n",
      "File \u001b[0;32m/opt/conda/lib/python3.10/site-packages/pandas/io/parsers/readers.py:577\u001b[0m, in \u001b[0;36m_read\u001b[0;34m(filepath_or_buffer, kwds)\u001b[0m\n\u001b[1;32m    574\u001b[0m _validate_names(kwds\u001b[38;5;241m.\u001b[39mget(\u001b[38;5;124m\"\u001b[39m\u001b[38;5;124mnames\u001b[39m\u001b[38;5;124m\"\u001b[39m, \u001b[38;5;28;01mNone\u001b[39;00m))\n\u001b[1;32m    576\u001b[0m \u001b[38;5;66;03m# Create the parser.\u001b[39;00m\n\u001b[0;32m--> 577\u001b[0m parser \u001b[38;5;241m=\u001b[39m \u001b[43mTextFileReader\u001b[49m\u001b[43m(\u001b[49m\u001b[43mfilepath_or_buffer\u001b[49m\u001b[43m,\u001b[49m\u001b[43m \u001b[49m\u001b[38;5;241;43m*\u001b[39;49m\u001b[38;5;241;43m*\u001b[39;49m\u001b[43mkwds\u001b[49m\u001b[43m)\u001b[49m\n\u001b[1;32m    579\u001b[0m \u001b[38;5;28;01mif\u001b[39;00m chunksize \u001b[38;5;129;01mor\u001b[39;00m iterator:\n\u001b[1;32m    580\u001b[0m     \u001b[38;5;28;01mreturn\u001b[39;00m parser\n",
      "File \u001b[0;32m/opt/conda/lib/python3.10/site-packages/pandas/io/parsers/readers.py:1407\u001b[0m, in \u001b[0;36mTextFileReader.__init__\u001b[0;34m(self, f, engine, **kwds)\u001b[0m\n\u001b[1;32m   1404\u001b[0m     \u001b[38;5;28mself\u001b[39m\u001b[38;5;241m.\u001b[39moptions[\u001b[38;5;124m\"\u001b[39m\u001b[38;5;124mhas_index_names\u001b[39m\u001b[38;5;124m\"\u001b[39m] \u001b[38;5;241m=\u001b[39m kwds[\u001b[38;5;124m\"\u001b[39m\u001b[38;5;124mhas_index_names\u001b[39m\u001b[38;5;124m\"\u001b[39m]\n\u001b[1;32m   1406\u001b[0m \u001b[38;5;28mself\u001b[39m\u001b[38;5;241m.\u001b[39mhandles: IOHandles \u001b[38;5;241m|\u001b[39m \u001b[38;5;28;01mNone\u001b[39;00m \u001b[38;5;241m=\u001b[39m \u001b[38;5;28;01mNone\u001b[39;00m\n\u001b[0;32m-> 1407\u001b[0m \u001b[38;5;28mself\u001b[39m\u001b[38;5;241m.\u001b[39m_engine \u001b[38;5;241m=\u001b[39m \u001b[38;5;28;43mself\u001b[39;49m\u001b[38;5;241;43m.\u001b[39;49m\u001b[43m_make_engine\u001b[49m\u001b[43m(\u001b[49m\u001b[43mf\u001b[49m\u001b[43m,\u001b[49m\u001b[43m \u001b[49m\u001b[38;5;28;43mself\u001b[39;49m\u001b[38;5;241;43m.\u001b[39;49m\u001b[43mengine\u001b[49m\u001b[43m)\u001b[49m\n",
      "File \u001b[0;32m/opt/conda/lib/python3.10/site-packages/pandas/io/parsers/readers.py:1661\u001b[0m, in \u001b[0;36mTextFileReader._make_engine\u001b[0;34m(self, f, engine)\u001b[0m\n\u001b[1;32m   1659\u001b[0m     \u001b[38;5;28;01mif\u001b[39;00m \u001b[38;5;124m\"\u001b[39m\u001b[38;5;124mb\u001b[39m\u001b[38;5;124m\"\u001b[39m \u001b[38;5;129;01mnot\u001b[39;00m \u001b[38;5;129;01min\u001b[39;00m mode:\n\u001b[1;32m   1660\u001b[0m         mode \u001b[38;5;241m+\u001b[39m\u001b[38;5;241m=\u001b[39m \u001b[38;5;124m\"\u001b[39m\u001b[38;5;124mb\u001b[39m\u001b[38;5;124m\"\u001b[39m\n\u001b[0;32m-> 1661\u001b[0m \u001b[38;5;28mself\u001b[39m\u001b[38;5;241m.\u001b[39mhandles \u001b[38;5;241m=\u001b[39m \u001b[43mget_handle\u001b[49m\u001b[43m(\u001b[49m\n\u001b[1;32m   1662\u001b[0m \u001b[43m    \u001b[49m\u001b[43mf\u001b[49m\u001b[43m,\u001b[49m\n\u001b[1;32m   1663\u001b[0m \u001b[43m    \u001b[49m\u001b[43mmode\u001b[49m\u001b[43m,\u001b[49m\n\u001b[1;32m   1664\u001b[0m \u001b[43m    \u001b[49m\u001b[43mencoding\u001b[49m\u001b[38;5;241;43m=\u001b[39;49m\u001b[38;5;28;43mself\u001b[39;49m\u001b[38;5;241;43m.\u001b[39;49m\u001b[43moptions\u001b[49m\u001b[38;5;241;43m.\u001b[39;49m\u001b[43mget\u001b[49m\u001b[43m(\u001b[49m\u001b[38;5;124;43m\"\u001b[39;49m\u001b[38;5;124;43mencoding\u001b[39;49m\u001b[38;5;124;43m\"\u001b[39;49m\u001b[43m,\u001b[49m\u001b[43m \u001b[49m\u001b[38;5;28;43;01mNone\u001b[39;49;00m\u001b[43m)\u001b[49m\u001b[43m,\u001b[49m\n\u001b[1;32m   1665\u001b[0m \u001b[43m    \u001b[49m\u001b[43mcompression\u001b[49m\u001b[38;5;241;43m=\u001b[39;49m\u001b[38;5;28;43mself\u001b[39;49m\u001b[38;5;241;43m.\u001b[39;49m\u001b[43moptions\u001b[49m\u001b[38;5;241;43m.\u001b[39;49m\u001b[43mget\u001b[49m\u001b[43m(\u001b[49m\u001b[38;5;124;43m\"\u001b[39;49m\u001b[38;5;124;43mcompression\u001b[39;49m\u001b[38;5;124;43m\"\u001b[39;49m\u001b[43m,\u001b[49m\u001b[43m \u001b[49m\u001b[38;5;28;43;01mNone\u001b[39;49;00m\u001b[43m)\u001b[49m\u001b[43m,\u001b[49m\n\u001b[1;32m   1666\u001b[0m \u001b[43m    \u001b[49m\u001b[43mmemory_map\u001b[49m\u001b[38;5;241;43m=\u001b[39;49m\u001b[38;5;28;43mself\u001b[39;49m\u001b[38;5;241;43m.\u001b[39;49m\u001b[43moptions\u001b[49m\u001b[38;5;241;43m.\u001b[39;49m\u001b[43mget\u001b[49m\u001b[43m(\u001b[49m\u001b[38;5;124;43m\"\u001b[39;49m\u001b[38;5;124;43mmemory_map\u001b[39;49m\u001b[38;5;124;43m\"\u001b[39;49m\u001b[43m,\u001b[49m\u001b[43m \u001b[49m\u001b[38;5;28;43;01mFalse\u001b[39;49;00m\u001b[43m)\u001b[49m\u001b[43m,\u001b[49m\n\u001b[1;32m   1667\u001b[0m \u001b[43m    \u001b[49m\u001b[43mis_text\u001b[49m\u001b[38;5;241;43m=\u001b[39;49m\u001b[43mis_text\u001b[49m\u001b[43m,\u001b[49m\n\u001b[1;32m   1668\u001b[0m \u001b[43m    \u001b[49m\u001b[43merrors\u001b[49m\u001b[38;5;241;43m=\u001b[39;49m\u001b[38;5;28;43mself\u001b[39;49m\u001b[38;5;241;43m.\u001b[39;49m\u001b[43moptions\u001b[49m\u001b[38;5;241;43m.\u001b[39;49m\u001b[43mget\u001b[49m\u001b[43m(\u001b[49m\u001b[38;5;124;43m\"\u001b[39;49m\u001b[38;5;124;43mencoding_errors\u001b[39;49m\u001b[38;5;124;43m\"\u001b[39;49m\u001b[43m,\u001b[49m\u001b[43m \u001b[49m\u001b[38;5;124;43m\"\u001b[39;49m\u001b[38;5;124;43mstrict\u001b[39;49m\u001b[38;5;124;43m\"\u001b[39;49m\u001b[43m)\u001b[49m\u001b[43m,\u001b[49m\n\u001b[1;32m   1669\u001b[0m \u001b[43m    \u001b[49m\u001b[43mstorage_options\u001b[49m\u001b[38;5;241;43m=\u001b[39;49m\u001b[38;5;28;43mself\u001b[39;49m\u001b[38;5;241;43m.\u001b[39;49m\u001b[43moptions\u001b[49m\u001b[38;5;241;43m.\u001b[39;49m\u001b[43mget\u001b[49m\u001b[43m(\u001b[49m\u001b[38;5;124;43m\"\u001b[39;49m\u001b[38;5;124;43mstorage_options\u001b[39;49m\u001b[38;5;124;43m\"\u001b[39;49m\u001b[43m,\u001b[49m\u001b[43m \u001b[49m\u001b[38;5;28;43;01mNone\u001b[39;49;00m\u001b[43m)\u001b[49m\u001b[43m,\u001b[49m\n\u001b[1;32m   1670\u001b[0m \u001b[43m\u001b[49m\u001b[43m)\u001b[49m\n\u001b[1;32m   1671\u001b[0m \u001b[38;5;28;01massert\u001b[39;00m \u001b[38;5;28mself\u001b[39m\u001b[38;5;241m.\u001b[39mhandles \u001b[38;5;129;01mis\u001b[39;00m \u001b[38;5;129;01mnot\u001b[39;00m \u001b[38;5;28;01mNone\u001b[39;00m\n\u001b[1;32m   1672\u001b[0m f \u001b[38;5;241m=\u001b[39m \u001b[38;5;28mself\u001b[39m\u001b[38;5;241m.\u001b[39mhandles\u001b[38;5;241m.\u001b[39mhandle\n",
      "File \u001b[0;32m/opt/conda/lib/python3.10/site-packages/pandas/io/common.py:859\u001b[0m, in \u001b[0;36mget_handle\u001b[0;34m(path_or_buf, mode, encoding, compression, memory_map, is_text, errors, storage_options)\u001b[0m\n\u001b[1;32m    854\u001b[0m \u001b[38;5;28;01melif\u001b[39;00m \u001b[38;5;28misinstance\u001b[39m(handle, \u001b[38;5;28mstr\u001b[39m):\n\u001b[1;32m    855\u001b[0m     \u001b[38;5;66;03m# Check whether the filename is to be opened in binary mode.\u001b[39;00m\n\u001b[1;32m    856\u001b[0m     \u001b[38;5;66;03m# Binary mode does not support 'encoding' and 'newline'.\u001b[39;00m\n\u001b[1;32m    857\u001b[0m     \u001b[38;5;28;01mif\u001b[39;00m ioargs\u001b[38;5;241m.\u001b[39mencoding \u001b[38;5;129;01mand\u001b[39;00m \u001b[38;5;124m\"\u001b[39m\u001b[38;5;124mb\u001b[39m\u001b[38;5;124m\"\u001b[39m \u001b[38;5;129;01mnot\u001b[39;00m \u001b[38;5;129;01min\u001b[39;00m ioargs\u001b[38;5;241m.\u001b[39mmode:\n\u001b[1;32m    858\u001b[0m         \u001b[38;5;66;03m# Encoding\u001b[39;00m\n\u001b[0;32m--> 859\u001b[0m         handle \u001b[38;5;241m=\u001b[39m \u001b[38;5;28;43mopen\u001b[39;49m\u001b[43m(\u001b[49m\n\u001b[1;32m    860\u001b[0m \u001b[43m            \u001b[49m\u001b[43mhandle\u001b[49m\u001b[43m,\u001b[49m\n\u001b[1;32m    861\u001b[0m \u001b[43m            \u001b[49m\u001b[43mioargs\u001b[49m\u001b[38;5;241;43m.\u001b[39;49m\u001b[43mmode\u001b[49m\u001b[43m,\u001b[49m\n\u001b[1;32m    862\u001b[0m \u001b[43m            \u001b[49m\u001b[43mencoding\u001b[49m\u001b[38;5;241;43m=\u001b[39;49m\u001b[43mioargs\u001b[49m\u001b[38;5;241;43m.\u001b[39;49m\u001b[43mencoding\u001b[49m\u001b[43m,\u001b[49m\n\u001b[1;32m    863\u001b[0m \u001b[43m            \u001b[49m\u001b[43merrors\u001b[49m\u001b[38;5;241;43m=\u001b[39;49m\u001b[43merrors\u001b[49m\u001b[43m,\u001b[49m\n\u001b[1;32m    864\u001b[0m \u001b[43m            \u001b[49m\u001b[43mnewline\u001b[49m\u001b[38;5;241;43m=\u001b[39;49m\u001b[38;5;124;43m\"\u001b[39;49m\u001b[38;5;124;43m\"\u001b[39;49m\u001b[43m,\u001b[49m\n\u001b[1;32m    865\u001b[0m \u001b[43m        \u001b[49m\u001b[43m)\u001b[49m\n\u001b[1;32m    866\u001b[0m     \u001b[38;5;28;01melse\u001b[39;00m:\n\u001b[1;32m    867\u001b[0m         \u001b[38;5;66;03m# Binary mode\u001b[39;00m\n\u001b[1;32m    868\u001b[0m         handle \u001b[38;5;241m=\u001b[39m \u001b[38;5;28mopen\u001b[39m(handle, ioargs\u001b[38;5;241m.\u001b[39mmode)\n",
      "\u001b[0;31mFileNotFoundError\u001b[0m: [Errno 2] No such file or directory: '/kaggle/input/playground-series-s3e22/sample_submission1.csv'"
     ]
    }
   ],
   "source": [
    "sub = pd.read_csv('/kaggle/input/playground-series-s3e22/sample_submission1.csv')\n",
    "sub['outcome'] = preds\n",
    "sub['outcome'] = sub['outcome'].map({0: 'died', 1: 'lived', 2: 'euthanized'})\n",
    "sub.to_csv(\"submission.csv\", index=False)"
   ]
  }
 ],
 "metadata": {
  "kaggle": {
   "accelerator": "none",
   "dataSources": [
    {
     "databundleVersionId": 6536030,
     "sourceId": 59110,
     "sourceType": "competition"
    },
    {
     "datasetId": 1894788,
     "sourceId": 3102326,
     "sourceType": "datasetVersion"
    }
   ],
   "dockerImageVersionId": 30558,
   "isGpuEnabled": false,
   "isInternetEnabled": true,
   "language": "python",
   "sourceType": "notebook"
  },
  "kernelspec": {
   "display_name": "Python 3",
   "language": "python",
   "name": "python3"
  },
  "language_info": {
   "codemirror_mode": {
    "name": "ipython",
    "version": 3
   },
   "file_extension": ".py",
   "mimetype": "text/x-python",
   "name": "python",
   "nbconvert_exporter": "python",
   "pygments_lexer": "ipython3",
   "version": "3.10.12"
  },
  "papermill": {
   "default_parameters": {},
   "duration": 144.510133,
   "end_time": "2023-11-16T12:42:23.337430",
   "environment_variables": {},
   "exception": true,
   "input_path": "__notebook__.ipynb",
   "output_path": "__notebook__.ipynb",
   "parameters": {},
   "start_time": "2023-11-16T12:39:58.827297",
   "version": "2.4.0"
  }
 },
 "nbformat": 4,
 "nbformat_minor": 5
}
